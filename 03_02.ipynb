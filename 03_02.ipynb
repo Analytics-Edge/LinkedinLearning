


import os

 \# DeepSeek Model Configuration  
 deepseek\_config \= {  
 	"model": "deepseek-reasoner",  
 	"api\_key": os.getenv("DEEPSEEK\_API\_KEY"),  
 	"base\_url": "https://api.deepseek.com/v1",  
 	"temperature": 0.1,  
 	"max\_tokens": 3000,  
 	"reasoning\_steps": True  
 }






\# Configuration for creative tasks  
 creative\_config \= deepseek\_config.copy()  
 creative\_config.update({  
 	"temperature": 0.7,  
 	"max\_tokens": 2000  
 })

 \# Configuration for technical analysis  
 technical\_config \= deepseek\_config.copy()  
 technical\_config.update({  
 	"temperature": 0.05,  
 	"max\_tokens": 4000,  
 	"reasoning\_depth": "detailed"  
 })






def validate\_config(config):  
 	"""  
 	Validate that the configuration contains all required parameters  
 	and that the values are appropriate for API usage.  
 	"""  
 	\# Check for required keys  
 	required\_keys \= \["model", "api\_key", "base\_url"\]  
 	  
 	for key in required\_keys:  
     	if not config.get(key):  
         	raise ValueError(f"Missing required configuration: {key}")  
 	  
 	\# Validate API key format (should be a non-empty string)  
 	if not isinstance(config\["api\_key"\], str) or len(config\["api\_key"\]) \< 10:  
     	raise ValueError("Invalid API key: must be a valid string")  
 	  
 	\# Validate temperature range  
 	temperature \= config.get("temperature", 0.1)  
 	if not 0 \<= temperature \<= 1:  
     	raise ValueError("Temperature must be between 0 and 1")  
 	  
 	\# Validate max\_tokens  
 	max\_tokens \= config.get("max\_tokens", 1000\)  
 	if not isinstance(max\_tokens, int) or max\_tokens \<= 0:  
     	raise ValueError("max\_tokens must be a positive integer")  
 	  
 	print("✅ Configuration validation passed")  
 	return True






\# Test your configurations  
 try:  
 	print("Testing main configuration...")  
 	validate\_config(deepseek\_config)  
 	  
 	print("Testing creative configuration...")  
 	validate\_config(creative\_config)  
 	  
 	print("Testing technical configuration...")  
 	validate\_config(technical\_config)  
 	  
 	print("🎉 All configurations are valid and ready to use\!")  
 	  
 except ValueError as e:  
 	print(f"❌ Configuration error: {e}")  
 	print("Please fix the configuration before proceeding")






DEEPSEEK\_API\_KEY=your\_actual\_api\_key\_here






\# Install python-dotenv if not already installed  
 import subprocess  
 import sys

 try:  
 	from dotenv import load\_dotenv  
 except ImportError:  
     subprocess.check\_call(\[sys.executable, "-m", "pip", "install", "python-dotenv"\])  
 	from dotenv import load\_dotenv

 \# Load environment variables from .env file  
 load\_dotenv()

 import os

 \# Now your existing configuration code will work  
 deepseek\_config \= {  
 	"model": "deepseek-reasoner",  
 	"api\_key": os.getenv("DEEPSEEK\_API\_KEY"),  
 	"base\_url": "https://api.deepseek.com/v1",  
 	"temperature": 0.1,  
 	"max\_tokens": 3000,  
 	"reasoning\_steps": True  
 }






.env  
 \*.env  
 \_\_pycache\_\_/  
 \*.pyc






class DeepSeekConfigManager:  
 	"""  
 	A comprehensive configuration manager for DeepSeek API access.  
 	Handles multiple configuration profiles, validation, and secure credential management.  
 	"""  
 	  
 	def \_\_init\_\_(self):  
     	self.configs \= {}  
     	self.\_setup\_default\_configs()  
 	  
 	def \_setup\_default\_configs(self):  
     	"""Set up the default configuration profiles"""  
     	  
     	\# Base configuration  
     	base\_config \= {  
         	"model": "deepseek-reasoner",  
         	"api\_key": os.getenv("DEEPSEEK\_API\_KEY"),  
         	"base\_url": "https://api.deepseek.com/v1",  
         	"temperature": 0.1,  
         	"max\_tokens": 3000,  
         	"reasoning\_steps": True  
     	}  
     	  
     	\# Register different configuration profiles  
     	self.configs\["default"\] \= base\_config  
     	  
     	\# Creative tasks configuration  
         self.configs\["creative"\] \= base\_config.copy()  
         self.configs\["creative"\].update({  
         	"temperature": 0.7,  
         	"max\_tokens": 2000,  
         	"reasoning\_steps": True  
     	})  
     	  
     	\# Technical analysis configuration  
         self.configs\["technical"\] \= base\_config.copy()  
         self.configs\["technical"\].update({  
         	"temperature": 0.05,  
         	"max\_tokens": 4000,  
         	"reasoning\_steps": True  
     	})  
     	  
     	\# Quick response configuration  
     	self.configs\["quick"\] \= base\_config.copy()  
         self.configs\["quick"\].update({  
         	"temperature": 0.2,  
         	"max\_tokens": 1000,  
         	"reasoning\_steps": False  
     	})  
 	  
 	def get\_config(self, profile="default"):  
     	"""Get a configuration profile by name"""  
     	if profile not in self.configs:  
         	raise ValueError(f"Unknown configuration profile: {profile}")  
     	  
     	config \= self.configs\[profile\].copy()  
     	  
     	\# Validate before returning  
     	if not self.validate\_config(config):  
         	raise ValueError(f"Invalid configuration for profile: {profile}")  
     	  
     	return config  
 	  
 	def validate\_config(self, config):  
     	"""Validate a configuration dictionary"""  
     	required\_keys \= \["model", "api\_key", "base\_url"\]  
     	  
     	for key in required\_keys:  
         	if not config.get(key):  
             	print(f"❌ Missing required configuration: {key}")  
             	return False  
     	  
     	\# Check API key  
     	if not isinstance(config\["api\_key"\], str) or len(config\["api\_key"\]) \< 10:  
         	print("❌ Invalid API key")  
         	return False  
     	  
     	\# Check temperature  
     	temp \= config.get("temperature", 0.1)  
     	if not 0 \<= temp \<= 1:  
         	print("❌ Temperature must be between 0 and 1")  
         	return False  
     	  
     	\# Check max\_tokens  
     	max\_tokens \= config.get("max\_tokens", 1000\)  
     	if not isinstance(max\_tokens, int) or max\_tokens \<= 0:  
         	print("❌ max\_tokens must be a positive integer")  
         	return False  
     	  
     	return True  
 	  
 	def list\_profiles(self):  
     	"""List all available configuration profiles"""  
     	print("Available configuration profiles:")  
     	for profile\_name in self.configs.keys():  
         	config \= self.configs\[profile\_name\]  
         	print(f"  • {profile\_name}: temp={config\['temperature'\]}, tokens={config\['max\_tokens'\]}")  
 	  
 	def add\_custom\_config(self, name, config):  
     	"""Add a custom configuration profile"""  
     	if self.validate\_config(config):  
         	self.configs\[name\] \= config  
         	print(f"✅ Added custom configuration profile: {name}")  
     	else:  
         	print(f"❌ Failed to add configuration profile: {name}")

 \# Usage example  
 config\_manager \= DeepSeekConfigManager()

 \# List available profiles  
 config\_manager.list\_profiles()

 \# Get a specific configuration  
 try:  
 	my\_config \= config\_manager.get\_config("technical")  
 	print("✅ Successfully loaded technical configuration")  
 except ValueError as e:  
 	print(f"❌ Error loading configuration: {e}")






def test\_complete\_setup():  
 	"""Test the complete configuration setup"""  
 	print("🧪 Testing complete DeepSeek configuration setup...\\n")  
 	  
 	\# Test the configuration manager  
 	try:  
     	manager \= DeepSeekConfigManager()  
     	print("✅ Configuration manager created successfully")  
     	  
     	\# Test each profile  
     	profiles \= \["default", "creative", "technical", "quick"\]  
     	  
     	for profile in profiles:  
         	try:  
             	config \= manager.get\_config(profile)  
             	print(f"✅ {profile} profile loaded and validated")  
             	  
             	\# Show key settings  
             	print(f"   Temperature: {config\['temperature'\]}")  
             	print(f"   Max tokens: {config\['max\_tokens'\]}")  
             	print(f"   Reasoning steps: {config\['reasoning\_steps'\]}")  
             	print()  
             	  
         	except Exception as e:  
             	print(f"❌ Error with {profile} profile: {e}")  
     	  
     	print("🎉 All configuration profiles are working correctly\!")  
     	print("Your DeepSeek agent is ready for deployment\!")  
     	  
 	except Exception as e:  
     	print(f"❌ Setup failed: {e}")  
     	print("Please check your API key and environment setup")

 \# Run the complete test  
 test\_complete\_setup()




