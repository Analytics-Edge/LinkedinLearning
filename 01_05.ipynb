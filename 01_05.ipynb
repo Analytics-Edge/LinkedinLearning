


\# DeepSeek API Configuration  
 DEEPSEEK\_API\_KEY=your\_actual\_deepseek\_api\_key\_here

 \# GitHub Token (from previous chapter)  
 GITHUB\_TOKEN=your\_github\_token\_from\_previous\_chapter

 \# Additional Configuration  
 DEEPSEEK\_API\_BASE=https://api.deepseek.com/v1  
 DEEPSEEK\_MODEL=deepseek-r1

 \# Request Configuration  
 MAX\_TOKENS=2000  
 TEMPERATURE=0.7  
 TIMEOUT\_SECONDS=30





\# Environment variables and secrets  
 .env  
 \*.env  
 .env.local  
 .env.production  
 .env.development  
 .env.test

 \# API keys and credentials  
 credentials.json  
 secrets.json  
 config/secrets.yml  
 \*\_key.txt  
 \*.pem  
 \*.key

 \# Temporary credential files  
 temp\_credentials.\*  
 api\_keys.\*  
 tokens.\*

 \# IDE and editor files that might contain secrets  
 .vscode/settings.json  
 .idea/





import os  
 import sys  
 from dotenv import load\_dotenv

 def test\_credential\_loading():  
 	"""Test that credentials load correctly from environment"""  
 	print("🔍 Testing Credential Management System...\\n")  
 	  
 	\# Load environment variables from .env file  
 	load\_dotenv()  
 	  
 	\# Define required credentials  
 	required\_credentials \= {  
     	'DEEPSEEK\_API\_KEY': 'DeepSeek API access',  
     	'GITHUB\_TOKEN': 'GitHub API and Models access',  
     	'DEEPSEEK\_API\_BASE': 'DeepSeek API endpoint',  
     	'DEEPSEEK\_MODEL': 'Default DeepSeek model'  
 	}  
 	  
 	\# Test each credential  
 	missing\_credentials \= \[\]  
 	loaded\_credentials \= \[\]  
 	  
 	for var\_name, description in required\_credentials.items():  
     	value \= os.getenv(var\_name)  
     	if value:  
         	\# Show partial value for security  
         	if 'KEY' in var\_name or 'TOKEN' in var\_name:  
             	display\_value \= f"{value\[:8\]}..." \+ "\*" \* (max(0, len(value) \- 8))  
         	else:  
             	display\_value \= value  
         	  
             loaded\_credentials.append(var\_name)  
         	print(f"✅ {var\_name}: {display\_value}")  
         	print(f"   Purpose: {description}")  
     	else:  
             missing\_credentials.append(var\_name)  
         	print(f"❌ {var\_name}: NOT FOUND")  
         	print(f"   Purpose: {description}")  
     	print()  \# Empty line for readability  
 	  
 	\# Summary  
 	print("="\*50)  
 	if missing\_credentials:  
     	print(f"❌ FAILED: {len(missing\_credentials)} credentials missing")  
     	print("Missing credentials:")  
     	for cred in missing\_credentials:  
         	print(f"   \- {cred}")  
     	print("\\nPlease check your .env file and ensure all credentials are added.")  
     	return False  
 	else:  
     	print(f"✅ SUCCESS: All {len(loaded\_credentials)} credentials loaded correctly\!")  
     	print("Your credential management system is working properly.")  
     	return True

 def test\_env\_file\_security():  
 	"""Test that .env file is properly protected"""  
 	print("\\n🔒 Testing Security Configuration...\\n")  
 	  
 	\# Check if .env exists  
 	if not os.path.exists('.env'):  
     	print("❌ .env file not found")  
     	return False  
 	  
 	\# Check if .gitignore exists and contains .env  
 	if os.path.exists('.gitignore'):  
     	with open('.gitignore', 'r') as f:  
         	gitignore\_content \= f.read()  
     	  
     	if '.env' in gitignore\_content:  
         	print("✅ .env file is protected by .gitignore")  
     	else:  
         	print("⚠️ WARNING: .env file is NOT protected by .gitignore")  
         	print("Add '.env' to your .gitignore file immediately\!")  
         	return False  
 	else:  
     	print("❌ .gitignore file not found \- create one to protect your credentials")  
     	return False  
 	  
 	print("✅ Security configuration is correct")  
 	return True

 if \_\_name\_\_ \== "\_\_main\_\_":  
 	print("🚀 Credential Management System Test")  
 	print("=" \* 50\)  
 	  
 	\# Run tests  
 	credentials\_ok \= test\_credential\_loading()  
 	security\_ok \= test\_env\_file\_security()  
 	  
 	print("\\n" \+ "=" \* 50\)  
 	if credentials\_ok and security\_ok:  
     	print("🎉 All tests passed\! Your credential system is ready for AI development.")  
 	else:  
     	print("❌ Some tests failed. Please address the issues above.")  
     	sys.exit(1)





import os  
 import re  
 from typing import List, Dict, Any, Optional  
 from dotenv import load\_dotenv

 class CredentialManager:  
 	"""Manages and validates API credentials for AI development"""  
 	  
 	def \_\_init\_\_(self):  
     	"""Initialize the credential manager"""  
     	load\_dotenv()  \# Load environment variables  
     	  
     	self.required\_credentials \= {  
         	'DEEPSEEK\_API\_KEY': {  
             	'description': 'DeepSeek API access key',  
             	'pattern': r'^\[a-zA-Z0-9\\-\_\]+$',  \# Basic pattern validation  
             	'min\_length': 20,  
             	'sensitive': True  
         	},  
         	'GITHUB\_TOKEN': {  
             	'description': 'GitHub API token',  
             	'pattern': r'^ghp\_\[a-zA-Z0-9\]+$',  \# GitHub token pattern  
             	'min\_length': 40,  
             	'sensitive': True  
         	},  
         	'DEEPSEEK\_API\_BASE': {  
             	'description': 'DeepSeek API base URL',  
             	'pattern': r'^https?://.\*',  \# URL pattern  
             	'min\_length': 10,  
             	'sensitive': False  
         	},  
         	'DEEPSEEK\_MODEL': {  
             	'description': 'Default DeepSeek model name',  
             	'pattern': r'^\[a-zA-Z0-9\\-\_\]+$',  
             	'min\_length': 3,  
             	'sensitive': False  
         	}  
     	}  
 	  
 	def validate\_credential\_format(self, name: str, value: str) \-\> Dict\[str, Any\]:  
     	"""Validate credential format and structure"""  
     	if name not in self.required\_credentials:  
         	return {'valid': False, 'error': f'Unknown credential: {name}'}  
     	  
     	config \= self.required\_credentials\[name\]  
     	  
     	\# Check minimum length  
     	if len(value) \< config\['min\_length'\]:  
         	return {  
             	'valid': False,  
             	'error': f'{name} is too short (minimum {config\["min\_length"\]} characters)'  
         	}  
     	  
     	\# Check pattern  
     	if not re.match(config\['pattern'\], value):  
         	return {  
             	'valid': False,  
           	  'error': f'{name} format is invalid'  
         	}  
     	  
     	return {'valid': True, 'error': None}  
 	  
 	def validate\_all\_credentials(self) \-\> Dict\[str, Any\]:  
     	"""Validate all required credentials"""  
     	results \= {  
         	'valid': True,  
         	'credentials': {},  
         	'missing': \[\],  
         	'invalid': \[\],  
         	'summary': {}  
     	}  
     	  
     	for name, config in self.required\_credentials.items():  
         	value \= os.getenv(name)  
         	  
 	        if not value:  
                 results\['missing'\].append(name)  
             	results\['valid'\] \= False  
                 results\['credentials'\]\[name\] \= {  
                 	'status': 'missing',  
                 	'description': config\['description'\]  
             	}  
         	else:  
             	validation \= self.validate\_credential\_format(name, value)  
             	if validation\['valid'\]:  
                     results\['credentials'\]\[name\] \= {  
                     	'status': 'valid',  
     	                'description': config\['description'\],  
                     	'length': len(value)  
                 	}  
             	else:  
                     results\['invalid'\].append({  
                     	'name': name,  
                     	'error': validation\['error'\]  
                 	})  
                 	results\['valid'\] \= False  
                     results\['credentials'\]\[name\] \= {  
                     	'status': 'invalid',  
                     	'description': config\['description'\],  
                         'error': validation\['error'\]  
                 	}  
     	  
     	\# Create summary  
     	results\['summary'\] \= {  
         	'total\_required': len(self.required\_credentials),  
         	'valid\_count': len(\[c for c in results\['credentials'\].values() if c\['status'\] \== 'valid'\]),  
         	'missing\_count': len(results\['missing'\]),  
         	'invalid\_count': len(results\['invalid'\])  
     	}  
     	  
     	return results  
 	  
 	def get\_credential(self, name: str) \-\> Optional\[str\]:  
     	"""Safely retrieve a credential"""  
     	return os.getenv(name)  
 	  
 	def mask\_credential(self, value: str, show\_chars: int \= 8\) \-\> str:  
     	"""Mask sensitive credential for display"""  
     	if len(value) \<= show\_chars:  
         	return "\*" \* len(value)  
     	return value\[:show\_chars\] \+ "..." \+ "\*" \* (len(value) \- show\_chars)  
 	  
 	def generate\_validation\_report(self) \-\> str:  
     	"""Generate a comprehensive validation report"""  
     	results \= self.validate\_all\_credentials()  
     	  
     	report \= "🔐 CREDENTIAL VALIDATION REPORT\\n"  
     	report \+= "=" \* 50 \+ "\\n\\n"  
     	  
     	\# Overall status  
     	if results\['valid'\]:  
         	report \+= "✅ Overall Status: ALL CREDENTIALS VALID\\n\\n"  
     	else:  
         	report \+= "❌ Overall Status: CREDENTIAL ISSUES FOUND\\n\\n"  
     	  
     	\# Summary statistics  
     	summary \= results\['summary'\]  
     	report \+= f"📊 Summary:\\n"  
     	report \+= f"   Total Required: {summary\['total\_required'\]}\\n"  
     	report \+= f"   Valid: {summary\['valid\_count'\]}\\n"  
     	report \+= f"   Missing: {summary\['missing\_count'\]}\\n"  
     	report \+= f"   Invalid: {summary\['invalid\_count'\]}\\n\\n"  
     	  
     	\# Detailed results  
     	report \+= "📋 Detailed Results:\\n"  
     	for name, info in results\['credentials'\].items():  
         	status\_icon \= "✅" if info\['status'\] \== 'valid' else "❌"  
         	report \+= f"   {status\_icon} {name}: {info\['status'\].upper()}\\n"  
         	report \+= f"  	Description: {info\['description'\]}\\n"  
         	if 'error' in info:  
             	report \+= f"  	Error: {info\['error'\]}\\n"  
         	elif 'length' in info:  
             	report \+= f"  	Length: {info\['length'\]} characters\\n"  
         	report \+= "\\n"  
     	  
     	\# Recommendations  
     	if not results\['valid'\]:  
         	report \+= "💡 RECOMMENDATIONS:\\n"  
         	if results\['missing'\]:  
             	report \+= "   Missing Credentials:\\n"  
             	for missing in results\['missing'\]:  
                 	report \+= f" 	\- Add {missing} to your .env file\\n"  
         	if results\['invalid'\]:  
             	report \+= "   Invalid Credentials:\\n"  
             	for invalid in results\['invalid'\]:  
                 	report \+= f" 	\- Fix {invalid\['name'\]}: {invalid\['error'\]}\\n"  
     	  
     	return report

 \# Convenience functions for easy use  
 def validate\_credentials():  
 	"""Simple function to validate all credentials"""  
 	manager \= CredentialManager()  
 	results \= manager.validate\_all\_credentials()  
 	  
 	if not results\['valid'\]:  
         print(manager.generate\_validation\_report())  
     	raise ValueError(f"Credential validation failed: {len(results\['missing'\])} missing, {len(results\['invalid'\])} invalid")  
 	  
 	return True

 def get\_credential(name: str) \-\> str:  
 	"""Get a credential with validation"""  
 	manager \= CredentialManager()  
 	value \= manager.get\_credential(name)  
 	  
 	if not value:  
     	raise ValueError(f"Required credential {name} not found in environment")  
 	  
 	validation \= manager.validate\_credential\_format(name, value)  
 	if not validation\['valid'\]:  
     	raise ValueError(f"Credential {name} is invalid: {validation\['error'\]}")  
 	  
 	return value






from credential\_manager import CredentialManager, validate\_credentials

 def main():  
 	"""Test the credential validation system"""  
 	print("🧪 Testing Advanced Credential Validation...\\n")  
 	  
 	try:  
     	\# Test comprehensive validation  
     	manager \= CredentialManager()  
         print(manager.generate\_validation\_report())  
     	  
     	\# Test simple validation function  
     	validate\_credentials()  
     	print("🎉 All credential validations passed\!")  
     	  
 	except ValueError as e:  
     	print(f"❌ Validation failed: {e}")  
     	  
 	except Exception as e:  
     	print(f"❌ Unexpected error: {e}")

 if \_\_name\_\_ \== "\_\_main\_\_":  
 	main()


3\.   	**Run the advanced validation test**:

o   Save both files

o   Run: python test\_credential\_validation.py

o   Review the comprehensive validation report

**Step 6: Establish Credential Rotation Schedule**

1\.   	**Create a credential management schedule**:

o   Create CREDENTIAL\_SCHEDULE.md to document your rotation plan:








def create\_api\_client\_config(self) \-\> Dict\[str, Any\]:  
 	"""Create configuration for API clients"""  
 	try:  
     	config \= {  
         	'deepseek': {  
             	'api\_key': self.get\_credential('DEEPSEEK\_API\_KEY'),  
             	'base\_url': self.get\_credential('DEEPSEEK\_API\_BASE'),  
             	'model': self.get\_credential('DEEPSEEK\_MODEL'),  
             	'max\_tokens': int(os.getenv('MAX\_TOKENS', '2000')),  
             	'temperature': float(os.getenv('TEMPERATURE', '0.7')),  
             	'timeout': int(os.getenv('TIMEOUT\_SECONDS', '30'))  
         	},  
         	'github': {  
             	'token': self.get\_credential('GITHUB\_TOKEN'),  
             	'base\_url': 'https://api.github.com'  
         	}  
     	}  
     	  
     	\# Validate all credentials before returning  
     	validation \= self.validate\_all\_credentials()  
     	if not validation\['valid'\]:  
         	raise ValueError("Invalid credentials detected")  
     	  
     	return config  
     	  
 	except Exception as e:  
  	   raise ValueError(f"Failed to create API configuration: {e}")

 def test\_api\_connectivity(self) \-\> Dict\[str, Any\]:  
 	"""Test connectivity to all configured APIs"""  
 	import requests  
 	  
 	results \= {  
     	'deepseek': {'status': 'unknown', 'message': ''},  
     	'github': {'status': 'unknown', 'message': ''}  
 	}  
 	  
 	config \= self.create\_api\_client\_config()  
 	  
 	\# Test GitHub API  
 	try:  
     	github\_headers \= {  
         	'Authorization': f"Bearer {config\['github'\]\['token'\]}",  
 	        'Accept': 'application/vnd.github.v3+json'  
     	}  
     	response \= requests.get(  
             f"{config\['github'\]\['base\_url'\]}/user",  
         	headers=github\_headers,  
         	timeout=10  
     	)  
     	if response.status\_code \== 200:  
         	results\['github'\] \= {'status': 'success', 'message': 'Connected successfully'}  
     	else:  
         	results\['github'\] \= {'status': 'error', 'message': f'HTTP {response.status\_code}'}  
 	except Exception as e:  
     	results\['github'\] \= {'status': 'error', 'message': str(e)}  
 	  
 	\# Test DeepSeek API (basic connectivity check)  
 	try:  
     	\# Note: This is a basic connection test \- actual API testing would require valid endpoints  
     	deepseek\_base \= config\['deepseek'\]\['base\_url'\]  
     	if deepseek\_base.startswith('http'):  
         	results\['deepseek'\] \= {'status': 'configured', 'message': 'Configuration valid'}  
     	else:  
         	results\['deepseek'\] \= {'status': 'error', 'message': 'Invalid base URL'}  
 	except Exception as e:  
     	results\['deepseek'\] \= {'status': 'error', 'message': str(e)}  
 	  
 	return results

2\.   	**Create a comprehensive test for production readiness**:

o   Create test\_production\_ready.py:

from credential\_manager import CredentialManager

 def test\_production\_readiness():  
 	"""Test if credential system is ready for production use"""  
 	print("🚀 Testing Production Readiness...\\n")  
 	  
 	try:  
     	manager \= CredentialManager()  
     	  
     	\# Test 1: Validate all credentials  
     	print("1. Validating credentials...")  
     	validation \= manager.validate\_all\_credentials()  
     	if validation\['valid'\]:  
         	print("   ✅ All credentials valid")  
     	else:  
         	print(f"   ❌ Credential issues found")  
         	return False  
     	  
     	\# Test 2: Create API configuration  
     	print("\\n2. Creating API configuration...")  
     	config \= manager.create\_api\_client\_config()  
     	print("   ✅ API configuration created successfully")  
     	  
     	\# Test 3: Test API connectivity  
     	print("\\n3. Testing API connectivity...")  
     	connectivity \= manager.test\_api\_connectivity()  
     	  
     	for service, result in connectivity.items():  
         	status\_icon \= "✅" if result\['status'\] in \['success', 'configured'\] else "❌"  
         	print(f"   {status\_icon} {service.title()}: {result\['message'\]}")  
     	  
     	\# Test 4: Security check  
     	print("\\n4. Checking security configuration...")  
     	if os.path.exists('.gitignore'):  
         	with open('.gitignore', 'r') as f:  
             	if '.env' in f.read():  
                 	print("   ✅ Credentials protected from version control")  
             	else:  
                 	print("   ❌ .env not in .gitignore \- security risk\!")  
                 	return False  
     	else:  
         	print("   ❌ .gitignore not found \- security risk\!")  
         	return False  
     	  
     	print("\\n" \+ "="\*50)  
     	print("🎉 Production readiness: PASSED")  
     	print("Your credential system is ready for professional AI development\!")  
     	  
     	return True  
     	  
 	except Exception as e:  
     	print(f"\\n❌ Production readiness test failed: {e}")  
     	return False

 if \_\_name\_\_ \== "\_\_main\_\_":  
 	import os  
 	test\_production\_readiness()



