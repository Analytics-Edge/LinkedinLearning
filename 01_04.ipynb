





o   The left sidebar should show various account configuration options

o   Your username should appear at the top of the left sidebar

**Step 2: Navigate to Developer Settings**

1\.   	**Locate Developer settings in the sidebar**:

o   In the left sidebar, scroll down toward the bottom

o   Look for a section labeled "**Developer settings**"

o   It's typically one of the last items in the sidebar menu

o   Click on "**Developer settings**" to access developer tools














GITHUB\_TOKEN=your\_actual\_token\_here





\# GitHub API Configuration  
 GITHUB\_TOKEN=your\_actual\_token\_here  
 GITHUB\_API\_BASE=https://api.github.com  
 GITHUB\_MODELS\_ENDPOINT=https://models.inference.ai.azure.com

 \# Default Model Settings  
 DEFAULT\_MODEL=deepseek-r1  
 MAX\_TOKENS=2000  
 TEMPERATURE=0.7





import os  
 import requests  
 from dotenv import load\_dotenv

 \# Load environment variables  
 load\_dotenv()

 def test\_github\_token():  
 	"""Test GitHub token functionality"""  
 	print("🔍 Testing GitHub Personal Access Token...\\n")  
 	  
 	\# Check if token is loaded  
 	token \= os.getenv('GITHUB\_TOKEN')  
 	if not token:  
     	print("❌ GITHUB\_TOKEN not found in environment variables")  
     	print("Make sure your .env file contains: GITHUB\_TOKEN=your\_token\_here")  
     	return False  
 	  
 	print(f"✅ Token loaded successfully")  
 	print(f"Token preview: {token\[:10\]}..." \+ "\*" \* (len(token) \- 10))  
 	  
 	\# Test API access  
 	headers \= {  
     	'Authorization': f'Bearer {token}',  
     	'Accept': 'application/vnd.github.v3+json',  
     	'User-Agent': 'DeepSeek-AI-Agent/1.0'  
 	}  
 	  
 	try:  
     	\# Test basic GitHub API access  
     	response \= requests.get('https://api.github.com/user', headers=headers)  
     	  
     	if response.status\_code \== 200:  
         	user\_data \= response.json()  
         	print(f"✅ GitHub API access successful\!")  
         	print(f"Authenticated as: {user\_data\['login'\]}")  
         	print(f"Account type: {user\_data\['type'\]}")  
         	return True  
     	else:  
         	print(f"❌ GitHub API access failed: {response.status\_code}")  
         	print(f"Response: {response.text}")  
         	return False  
         	  
 	except requests.RequestException as e:  
     	print(f"❌ Network error testing token: {e}")  
     	return False

 if \_\_name\_\_ \== "\_\_main\_\_":  
 	success \= test\_github\_token()  
 	if success:  
     	print("\\n🎉 Token setup completed successfully\!")  
 	else:  
     	print("\\n❌ Token setup needs attention \- check your configuration")






\# Environment variables and secrets  
 .env  
 \*.env  
 .env.local  
 .env.production

 \# API keys and credentials  
 credentials.json  
 secrets.json  
 \*\_token.txt

 \# Personal access tokens  
 token.txt  
 \*.token





\# GitHub Personal Access Token Information

 \#\# Token Purpose  
 \- AI agent development with DeepSeek models  
 \- Access to GitHub Models API  
 \- Repository integration for AI workflows

 \#\# Token Configuration  
 \- \*\*Name\*\*: DeepSeek AI Agent Development  
 \- \*\*Expiration\*\*: 90 days from creation  
 \- \*\*Scopes\*\*:  
   \- repo (repository access)  
   \- workflow (GitHub Actions)  
   \- read:org (organization access, if applicable)

 \#\# Security Notes  
 \- Token stored in .env file (not committed to Git)  
 \- Protected by .gitignore  
 \- Can be revoked at: https://github.com/settings/tokens

 \#\# Usage  
 \- Environment variable: GITHUB\_TOKEN  
 \- Used for GitHub Models API authentication  
 \- Required for AI agent GitHub integration

 \#\# Expiration Management  
 \- Expires on: \[Add your expiration date\]  
 \- Renewal reminder: Set calendar reminder 1 week before expiration  
 \- Regeneration process: Follow this chapter's instructions


2\.   	**Set up expiration reminder**:

o   Calculate your token's expiration date (90 days from today)

o   Set a calendar reminder for 1 week before expiration

o   Include a link to this chapter for regeneration instructions

**Step 12: Test GitHub Models Access**

1\.   	**Verify GitHub Models connectivity**:

o   Create a test file called test\_github\_models.py:


import os  
 import requests  
 from dotenv import load\_dotenv

 load\_dotenv()

 def test\_github\_models\_access():  
 	"""Test access to GitHub Models API"""  
 	print("🧪 Testing GitHub Models Access...\\n")  
 	  
 	token \= os.getenv('GITHUB\_TOKEN')  
 	if not token:  
     	print("❌ GitHub token not found")  
     	return False  
 	  
 	\# GitHub Models endpoint  
 	endpoint \= "https://models.inference.ai.azure.com/v1/models"  
 	headers \= {  
     	'Authorization': f'Bearer {token}',  
     	'Content-Type': 'application/json'  
 	}  
 	  
 	try:  
     	response \= requests.get(endpoint, headers=headers)  
     	  
     	if response.status\_code \== 200:  
         	print("✅ GitHub Models access successful\!")  
         	models\_data \= response.json()  
         	if 'data' in models\_data:  
             	print(f"Available models: {len(models\_data\['data'\])}")  
             	\# Look for DeepSeek models  
             	deepseek\_models \= \[m for m in models\_data\['data'\] if 'deepseek' in m.get('id', '').lower()\]  
             	if deepseek\_models:  
                 	print(f"DeepSeek models found: {len(deepseek\_models)}")  
             	else:  
                 	print("DeepSeek models not found in response")  
         	return True  
     	else:  
         	print(f"❌ GitHub Models access failed: {response.status\_code}")  
         	print(f"Response: {response.text}")  
         	return False  
         	  
 	except requests.RequestException as e:  
     	print(f"❌ Network error: {e}")  
     	return False

 if \_\_name\_\_ \== "\_\_main\_\_":  
 	success \= test\_github\_models\_access()  
 	if success:  
     	print("\\n🎉 GitHub Models access configured successfully\!")  
 	else:  
     	print("\\n❌ GitHub Models access needs configuration")


2\.   	**Run the GitHub Models test**:

o   Save the file and run: python test\_github\_models.py

o   This verifies your token can access the AI services you'll use

**Security Best Practices Summary**

Now that your token is configured, follow these ongoing security practices:

**Token Management:**

·       ✅ Store tokens in environment variables only

·       ✅ Never commit tokens to version control

·       ✅ Use descriptive names for easy identification

·       ✅ Set appropriate expiration dates

·       ✅ Monitor token usage through GitHub settings

**Access Control:**

·       ✅ Use minimum necessary permissions (principle of least privilege)

·       ✅ Create separate tokens for different projects/purposes

·       ✅ Revoke tokens immediately when no longer needed

·       ✅ Regularly audit your active tokens

**Monitoring and Maintenance:**

·       ✅ Set up expiration reminders

·       ✅ Monitor token usage in GitHub settings

·       ✅ Rotate tokens regularly (every 90 days recommended)

·       ✅ Keep documentation updated

**Troubleshooting Common Issues**

**Token authentication fails:**

·       Verify the token is correctly copied (check for extra spaces)

·       Ensure the token hasn't expired

·       Confirm you selected the necessary scopes

·       Test with GitHub API first before trying GitHub Models

**Environment variable not loading:**

·       Check that your .env file is in the project root

·       Verify there are no spaces around the \= sign

·       Try restarting your Codespace

·       Ensure you're calling load\_dotenv() in your Python scripts

**Permission denied errors:**

·       Review the scopes you selected when creating the token

·       Some operations may require additional permissions

·       Consider creating a new token with broader scopes if needed

**Token shows in Git status:**

·       Verify your .gitignore file includes .env

·       Check for typos in the .gitignore file

·       Make sure .gitignore is in the project root directory

**Your Security Foundation is Complete**

Congratulations\! You now have a secure authentication system for your AI development projects:

·       ✅ **GitHub Personal Access Token** created with appropriate permissions

·       ✅ **Secure Storage** in environment variables protected from version control

·       ✅ **API Access** verified for both GitHub and GitHub Models

·       ✅ **Security Documentation** for ongoing maintenance

·       ✅ **Testing Scripts** to verify functionality

·       ✅ **Best Practices** implemented for professional development

**What This Enables**

With your secure token configuration, you can now:

·       Access GitHub Models API for AI services

·       Integrate AI agents with GitHub repositories

·       Use GitHub Actions for automated workflows

·       Build production-ready applications with proper authentication

·       Follow security best practices for API access

**Professional Development Impact**

This security setup demonstrates several important professional skills:

·       **Security-First Approach**: Implementing authentication before functionality

·       **Documentation**: Clear record-keeping for maintenance and collaboration

·       **Testing**: Verification that security measures work correctly

·       **Best Practices**: Following industry standards for API authentication

In the upcoming chapters, you'll use this secure foundation to connect with DeepSeek's reasoning capabilities and build sophisticated AI agents. Your careful attention to security now will pay dividends throughout your AI development journey.

Remember: Professional AI development requires regular credential rotation. Set up reminders to review and refresh your tokens every 90 days, and always monitor for any unauthorized usage through GitHub's security settings.

Your secure AI development environment is now ready for the exciting work ahead.
