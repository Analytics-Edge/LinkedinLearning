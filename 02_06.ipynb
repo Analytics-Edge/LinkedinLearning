


import time

 \# Start timing before your agent executes a task  
 start \= time.time()  
 response \= task.execute()  
 duration \= time.time() \- start

 \# Capture token usage from the response  
 tokens \= response.usage.total\_tokens






\# Calculate token costs  
 cost\_tokens \= tokens / 1000 \* 0.002

 \# Calculate compute time costs (convert seconds to minutes)  
 cost\_compute \= duration / 60 \* 0.05

 \# Get your total cost for this request  
 total\_cost \= cost\_tokens \+ cost\_compute






\# Initialize a list to store all your costs  
 costs \= \[\]

 \# After each request, add the cost and display it  
 costs.append(total\_cost)  
 print(f"Request cost: ${total\_cost:.4f}")






\# Define your complexity threshold (you'll adjust this based on your needs)  
 threshold \= 50  \# This could be based on prompt length, keywords, etc.

 \# Route queries based on complexity  
 if complexity \< threshold:  
 	use\_model \= "gpt-3.5-turbo"  \# Cheaper model for simple tasks  
 else:  
 	use\_model \= "deepseek-reasoner"  \# More expensive model for complex reasoning






\# Initialize your cache dictionary  
 cache \= {}

 def get\_response(prompt):  
 	\# Create a unique key for this prompt  
 	key \= hash(prompt)  
 	  
 	\# Check if we've seen this prompt before  
 	if key in cache:  
     	return cache\[key\]  \# Return cached response instantly  
 	  
 	\# If not cached, get a new response  
 	response \= agent.ask(prompt)  
 	  
 	\# Store the response for future use  
 	cache\[key\] \= response  
 	return response






\# Collect multiple queries  
 batch\_queries \= \[  
 	"What is the weather today?",  
 	"Explain machine learning basics",  
 	"Calculate 15% tip on $45"  
 \]

 \# Process them as a single batch request  
 batch\_response \= agent.ask\_batch(batch\_queries)






\# Define your daily budget  
 daily\_budget \= 10.00  \# $10 per day, adjust as needed

 \# Check if you're approaching your limit  
 if total\_cost \> daily\_budget \* 0.8:  
 	print("Warning: 80% of daily budget reached")  
 	  
 \# You might also want to implement automatic shutdown  
 if total\_cost \> daily\_budget:  
 	print("Daily budget exceeded\! Stopping further processing.")  
 	\# Add logic to pause or limit operations






import csv  
 from datetime import datetime

 \# Create a cost report  
 def generate\_cost\_report(costs\_data):  
 	timestamp \= datetime.now().strftime("%Y-%m-%d\_%H-%M-%S")  
 	filename \= f"cost\_report\_{timestamp}.csv"  
 	  
 	with open(filename, 'w', newline='') as file:  
     	writer \= csv.writer(file)  
     	writer.writerow(\['Timestamp', 'Cost', 'Tokens', 'Duration'\])  
     	  
     	for entry in costs\_data:  
             writer.writerow(\[entry\['timestamp'\], entry\['cost'\],  
                        	entry\['tokens'\], entry\['duration'\]\])  
 	  
 	print(f"Cost report saved as {filename}")




