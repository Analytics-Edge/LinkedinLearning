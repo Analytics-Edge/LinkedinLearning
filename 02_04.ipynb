


from typing import List, Dict, Any  
 from dataclasses import dataclass  
 import json

 @dataclass  
 class AgentRole:  
 	"""Defines a specialized agent role in the chain"""  
 	name: str  
 	role: str  
 	goal: str  
 	backstory: str  
 	specialization: str  
 	input\_requirements: List\[str\]  
 	output\_format: str

 class ChainArchitect:  
 	"""Design and plan agent chain architectures"""  
 	  
 	def \_\_init\_\_(self):  
     	self.predefined\_roles \= {  
         	"analyzer": AgentRole(  
             	name="Problem Analyzer",  
             	role="Problem Analysis Specialist",  
             	goal="Break down complex problems into core components and identify key factors",  
             	backstory="You are an expert at examining problems from multiple angles and identifying the root causes and key variables that need to be addressed.",  
                 specialization="Problem decomposition and factor identification",  
                 input\_requirements=\["Problem description or question"\],  
                 output\_format="Structured analysis with key components, factors, and requirements"  
         	),  
         	  
         	"planner": AgentRole(  
             	name="Solution Planner",  
             	role="Strategic Planning Specialist",  
             	goal="Devise comprehensive step-by-step plans based on problem analysis",  
             	backstory="You excel at taking complex analysis and transforming it into clear, actionable plans with logical sequences and dependencies.",  
                 specialization="Strategic planning and workflow design",  
                 input\_requirements=\["Problem analysis", "Requirements", "Constraints"\],  
                 output\_format="Detailed step-by-step plan with priorities and dependencies"  
         	),  
         	  
         	"executor": AgentRole(  
             	name="Solution Executor",  
             	role="Implementation Specialist",  
             	goal="Execute plans and provide detailed implementation guidance",  
             	backstory="You are skilled at taking strategic plans and providing specific, practical implementation details and code examples.",  
             	specialization="Practical implementation and execution",  
                 input\_requirements=\["Strategic plan", "Technical requirements"\],  
                 output\_format="Implementation details, code examples, and specific actions"  
         	),  
         	  
         	"validator": AgentRole(  
             	name="Quality Validator",  
             	role="Quality Assurance Specialist",  
             	goal="Review and validate solutions against requirements and best practices",  
             	backstory="You meticulously check solutions for accuracy, completeness, and alignment with requirements.",  
                 specialization="Quality assurance and validation",  
                 input\_requirements=\["Solution or plan to validate", "Original requirements"\],  
                 output\_format="Validation report with approval status and improvement suggestions"  
         	),  
         	  
         	"synthesizer": AgentRole(  
             	name="Knowledge Synthesizer",  
             	role="Integration Specialist",  
       	      goal="Combine insights from multiple agents into comprehensive final results",  
             	backstory="You excel at taking multiple perspectives and analyses and weaving them into coherent, comprehensive solutions.",  
                 specialization="Knowledge integration and synthesis",  
                 input\_requirements=\["Multiple agent outputs", "Original problem context"\],  
                 output\_format="Integrated final solution with supporting reasoning"  
         	)  
     	}  
     	  
     	print("🏗️ Agent Chain Architect initialized with predefined roles")  
 	  
 	def design\_chain\_for\_problem(self, problem\_type: str) \-\> List\[str\]:  
     	"""Suggest an agent chain for a specific type of problem"""  
     	  
     	chain\_templates \= {  
         	"complex\_analysis": \["analyzer", "planner", "validator"\],  
             "technical\_implementation": \["analyzer", "planner", "executor", "validator"\],  
             "research\_synthesis": \["analyzer", "synthesizer", "validator"\],  
             "multi\_perspective": \["analyzer", "planner", "executor", "synthesizer", "validator"\],  
         	"simple\_problem": \["analyzer", "planner"\],  
         	"quality\_focused": \["analyzer", "planner", "validator", "synthesizer"\]  
     	}  
     	  
     	suggested\_chain \= chain\_templates.get(problem\_type, \["analyzer", "planner", "validator"\])  
     	  
     	print(f"📋 Suggested chain for '{problem\_type}':")  
     	for i, role\_key in enumerate(suggested\_chain, 1):  
         	role \= self.predefined\_roles\[role\_key\]  
         	print(f"   {i}. {role.name}: {role.specialization}")  
     	  
     	return suggested\_chain  
 	  
 	def create\_chain\_blueprint(self, chain\_roles: List\[str\], problem\_description: str) \-\> Dict\[str, Any\]:  
     	"""Create a detailed blueprint for an agent chain"""  
     	  
     	blueprint \= {  
             "problem\_description": problem\_description,  
         	"chain\_length": len(chain\_roles),  
         	"agents": \[\],  
         	"workflow\_steps": \[\],  
         	"data\_flow": \[\]  
     	}  
     	  
     	for i, role\_key in enumerate(chain\_roles):  
         	if role\_key not in self.predefined\_roles:  
             	print(f"⚠️ Warning: Unknown role '{role\_key}', using analyzer instead")  
             	role\_key \= "analyzer"  
         	  
         	role \= self.predefined\_roles\[role\_key\]  
         	  
             blueprint\["agents"\].append({  
             	"step": i \+ 1,  
             	"name": role.name,  
             	"role": role.role,  
             	"goal": role.goal,  
             	"backstory": role.backstory,  
             	"input\_from": "user\_input" if i \== 0 else f"step\_{i}",  
             	"output\_to": f"step\_{i+2}" if i \< len(chain\_roles) \- 1 else "final\_result"  
         	})  
         	  
         	\# Define workflow step  
         	workflow\_step \= {  
             	"step\_number": i \+ 1,  
             	"action": f"Execute {role.name}",  
                 "input\_requirements": role.input\_requirements,  
                 "expected\_output": role.output\_format,  
                 "success\_criteria": f"Agent provides {role.specialization.lower()}"  
         	}  
         	  
             blueprint\["workflow\_steps"\].append(workflow\_step)  
     	  
     	return blueprint






def demonstrate\_chain\_planning():  
 	"""Demonstrate chain planning for different problem types"""  
 	architect \= ChainArchitect()  
 	  
 	\# Test different problem types  
 	problem\_examples \= \[  
     	("complex\_analysis", "How can we improve customer satisfaction in our software product?"),  
         ("technical\_implementation", "Design and implement a user authentication system"),  
     	("research\_synthesis", "What are the best practices for AI ethics in healthcare?")  
 	\]  
 	  
 	for problem\_type, description in problem\_examples:  
     	print(f"\\n{'='\*60}")  
     	print(f"🎯 PROBLEM TYPE: {problem\_type.upper()}")  
     	print(f"📝 Description: {description}")  
     	print("-" \* 60\)  
     	  
     	\# Get suggested chain  
     	suggested\_chain \= architect.design\_chain\_for\_problem(problem\_type)  
     	  
     	\# Create detailed blueprint  
     	blueprint \= architect.create\_chain\_blueprint(suggested\_chain, description)  
     	  
     	print(f"\\n📊 CHAIN BLUEPRINT:")  
     	print(f"   Total agents: {blueprint\['chain\_length'\]}")  
     	  
     	for step in blueprint\['workflow\_steps'\]:  
         	print(f"\\n   Step {step\['step\_number'\]}: {step\['action'\]}")  
         	print(f"  	Input needed: {', '.join(step\['input\_requirements'\])}")  
         	print(f"  	Expected output: {step\['expected\_output'\]}")  
 	  
 	print(f"\\n🎉 Chain planning demonstration completed\!")

 if \_\_name\_\_ \== "\_\_main\_\_":  
 	demonstrate\_chain\_planning()






from praisonaiagents import Agent, Task  
 from deepseek\_agent import reasoning\_agent\_enhanced  
 from reasoning\_extractor import ReasoningExtractor  
 from typing import Dict, Any, List, Optional  
 import json  
 from datetime import datetime

 class SpecializedAgentFactory:  
 	"""Factory for creating specialized agents with consistent configuration"""  
 	  
 	def \_\_init\_\_(self, base\_config: Dict\[str, Any\]):  
     	self.base\_config \= base\_config  
     	self.extractor \= ReasoningExtractor()  
     	self.agent\_instances \= {}  
     	print("🏭 Specialized Agent Factory initialized")  
 	  
 	def create\_analyzer\_agent(self) \-\> Agent:  
     	"""Create a problem analysis specialist agent"""  
     	analyzer \= Agent(  
         	role="Problem Analysis Specialist",  
         	goal="Break down complex problems into core components and identify key factors",  
             backstory="""You are an expert at examining problems from multiple angles.  
                     	You identify root causes, key variables, constraints, and requirements.  
        	             You always provide structured analysis with clear categorization of  
                     	different aspects of the problem.""",  
         	llm\_config=self.base\_config,  
         	verbose=True  
     	)  
     	  
     	self.agent\_instances\['analyzer'\] \= analyzer  
     	print("✅ Problem Analyzer agent created")  
     	return analyzer  
 	  
 	def create\_planner\_agent(self) \-\> Agent:  
     	"""Create a strategic planning specialist agent"""  
     	planner \= Agent(  
         	role="Strategic Planning Specialist",  
         	goal="Devise comprehensive step-by-step plans based on problem analysis",  
             backstory="""You excel at taking complex analysis and transforming it into  
                     	clear, actionable plans. You consider dependencies, priorities,  
   	                  resources, and timelines. Your plans are logical, sequential,  
                     	and practical to implement.""",  
         	llm\_config=self.base\_config,  
         	verbose=True  
     	)  
     	  
     	self.agent\_instances\['planner'\] \= planner  
     	print("✅ Strategic Planner agent created")  
     	return planner  
 	  
 	def create\_executor\_agent(self) \-\> Agent:  
     	"""Create an implementation specialist agent"""  
     	executor \= Agent(  
         	role="Implementation Specialist",  
         	goal="Execute plans and provide detailed implementation guidance",  
             backstory="""You are skilled at taking strategic plans and providing  
                     	specific, practical implementation details. You think through  
                     	the practical aspects, potential challenges, and provide  
                     	concrete examples and code when appropriate.""",  
         	llm\_config=self.base\_config,  
         	verbose=True  
     	)  
     	  
     	self.agent\_instances\['executor'\] \= executor  
     	print("✅ Implementation Executor agent created")  
     	return executor  
 	  
 	def create\_validator\_agent(self) \-\> Agent:  
     	"""Create a quality assurance specialist agent"""  
     	validator \= Agent(  
         	role="Quality Assurance Specialist",  
         	goal="Review and validate solutions against requirements and best practices",  
             backstory="""You meticulously check solutions for accuracy, completeness,  
                     	and alignment with requirements. You identify gaps, inconsistencies,  
                     	and areas for improvement. You provide constructive feedback and  
                     	specific suggestions for enhancement.""",  
         	llm\_config=self.base\_config,  
         	verbose=True  
     	)  
     	  
     	self.agent\_instances\['validator'\] \= validator  
     	print("✅ Quality Validator agent created")  
     	return validator  
 	  
 	def create\_synthesizer\_agent(self) \-\> Agent:  
     	"""Create a knowledge integration specialist agent"""  
     	synthesizer \= Agent(  
         	role="Knowledge Integration Specialist",  
         	goal="Combine insights from multiple agents into comprehensive final results",  
             backstory="""You excel at taking multiple perspectives and analyses and  
                     	weaving them into coherent, comprehensive solutions. You identify  
                     	connections, resolve conflicts, and create unified final outputs  
                     	that leverage the best insights from all sources.""",  
         	llm\_config=self.base\_config,  
         	verbose=True  
     	)  
     	  
         self.agent\_instances\['synthesizer'\] \= synthesizer  
     	print("✅ Knowledge Synthesizer agent created")  
     	return synthesizer  
 	  
 	def get\_agent\_by\_role(self, role: str) \-\> Optional\[Agent\]:  
     	"""Retrieve an agent by its role"""  
     	return self.agent\_instances.get(role.lower())  
 	  
 	def list\_available\_agents(self) \-\> List\[str\]:  
     	"""List all available agent roles"""  
     	return list(self.agent\_instances.keys())





class AgentChainCoordinator:  
 	"""Coordinates the execution of agent chains with context preservation"""  
 	  
 	def \_\_init\_\_(self, agent\_factory: SpecializedAgentFactory):  
     	self.factory \= agent\_factory  
     	self.execution\_history \= \[\]  
     	self.current\_context \= {}  
     	print("🔗 Agent Chain Coordinator initialized")  
 	  
 	def execute\_chain(self, chain\_definition: List\[str\], initial\_problem: str) \-\> Dict\[str, Any\]:  
     	"""Execute a complete agent chain with context preservation"""  
     	  
     	print(f"\\n🚀 Starting Agent Chain Execution")  
     	print(f"📋 Chain: {' → '.join(\[role.title() for role in chain\_definition\])}")  
     	print(f"🎯 Problem: {initial\_problem}")  
     	print("="\*60)  
     	  
     	chain\_results \= {  
         	"initial\_problem": initial\_problem,  
         	"chain\_definition": chain\_definition,  
         	"steps": \[\],  
         	"final\_result": "",  
             "execution\_metadata": {  
             	"start\_time": datetime.now().isoformat(),  
             	"total\_steps": len(chain\_definition),  
             	"success": True  
         	}  
     	}  
     	  
     	current\_input \= initial\_problem  
     	accumulated\_context \= f"Original Problem: {initial\_problem}\\n\\n"  
     	  
     	for step\_num, agent\_role in enumerate(chain\_definition, 1):  
         	print(f"\\n{'='\*20} STEP {step\_num}/{len(chain\_definition)}: {agent\_role.upper()} {'='\*20}")  
         	  
         	try:  
             	\# Get the appropriate agent  
             	agent \= self.factory.get\_agent\_by\_role(agent\_role)  
             	if not agent:  
                 	raise ValueError(f"Agent role '{agent\_role}' not found")  
             	  
       	      \# Create task with context  
             	task\_description \= self.\_create\_contextual\_task(  
                 	agent\_role, current\_input, accumulated\_context, step\_num  
             	)  
             	  
             	print(f"🤖 Executing {agent\_role} agent...")  
             	print(f"📝 Task: {task\_description\[:100\]}{'...' if len(task\_description) \> 100 else ''}")  
             	  
             	\# Execute the task  
             	task \= Task(description=task\_description, agent=agent)  
             	result \= task.execute()  
             	  
             	\# Extract reasoning steps  
             	reasoning\_summary \= self.factory.extractor.get\_reasoning\_summary(result)  
             	  
             	\# Record step results  
             	step\_result \= {  
                     "step\_number": step\_num,  
                     "agent\_role": agent\_role,  
                     "task\_description": task\_description,  
                 	"result": result,  
                     "reasoning\_steps": len(reasoning\_summary\['reasoning\_steps'\]),  
                     "quality\_score": reasoning\_summary\['quality\_metrics'\]\['quality\_score'\],  
                     "execution\_time": datetime.now().isoformat()  
             	}  
             	  
                 chain\_results\["steps"\].append(step\_result)  
             	  
      	       \# Update context for next agent  
             	current\_input \= result  
             	accumulated\_context \+= f"Step {step\_num} ({agent\_role} output):\\n{result}\\n\\n"  
             	  
             	print(f"✅ {agent\_role.title()} completed ({len(result)} chars, {step\_result\['reasoning\_steps'\]} steps)")  
             	print(f"📊 Quality Score: {step\_result\['quality\_score'\]:.2f}")  
             	  
         	except Exception as e:  
             	print(f"❌ Error in step {step\_num} ({agent\_role}): {str(e)}")  
                 chain\_results\["execution\_metadata"\]\["success"\] \= False  
                 chain\_results\["execution\_metadata"\]\["error"\] \= str(e)  
             	break  
     	  
     	\# Set final result  
     	if chain\_results\["steps"\]:  
             chain\_results\["final\_result"\] \= chain\_results\["steps"\]\[-1\]\["result"\]  
     	  
         chain\_results\["execution\_metadata"\]\["end\_time"\] \= datetime.now().isoformat()  
     	  
     	\# Save execution history  
     	self.execution\_history.append(chain\_results)  
     	  
         self.\_display\_chain\_summary(chain\_results)  
     	  
     	return chain\_results  
 	  
 	def \_create\_contextual\_task(self, agent\_role: str, current\_input: str,  
                               accumulated\_context: str, step\_number: int) \-\> str:  
     	"""Create a task description with full context for the agent"""  
     	  
     	role\_specific\_instructions \= {  
         	"analyzer": """  
             	Please provide a comprehensive analysis of this problem:  
             	1\. Break down the key components  
             	2\. Identify important factors and constraints  
             	3\. Highlight any assumptions that need to be made  
             	4\. Categorize different aspects of the problem  
             	Show your reasoning step by step.  
         	""",  
         	  
         	"planner": """  
             	Based on the analysis provided, create a detailed step-by-step plan:  
             	1\. Define clear objectives  
             	2\. Break down into sequential steps  
             	3\. Identify dependencies and prerequisites  
             	4\. Consider potential risks and mitigation strategies  
             	5\. Provide realistic timelines and priorities  
             	Show your planning reasoning clearly.  
         	""",  
         	  
         	"executor": """  
             	Provide detailed implementation guidance for this plan:  
             	1\. Specific actions for each step  
             	2\. Practical examples and code where applicable  
             	3\. Tools and resources needed  
             	4\. Potential challenges and solutions  
             	5\. Success criteria and checkpoints  
             	Show your implementation reasoning.  
         	""",  
         	  
         	"validator": """  
             	Review and validate this solution:  
             	1\. Check alignment with original requirements  
             	2\. Identify any gaps or inconsistencies  
             	3\. Evaluate completeness and accuracy  
             	4\. Suggest specific improvements  
             	5\. Provide final approval or rejection with reasoning  
             	Show your validation reasoning clearly.  
         	""",  
         	  
         	"synthesizer": """  
             	Integrate all previous insights into a comprehensive final solution:  
             	1\. Combine the best elements from all previous steps  
             	2\. Resolve any conflicts or inconsistencies  
             	3\. Create a unified, coherent solution  
             	4\. Ensure all original requirements are addressed  
             	5\. Provide clear next steps or recommendations  
             	Show your synthesis reasoning.  
         	"""  
     	}  
     	  
     	instruction \= role\_specific\_instructions.get(agent\_role, "Process this input and provide detailed reasoning.")  
     	  
     	if step\_number \== 1:  
         	\# First agent gets the original problem  
         	task\_description \= f"""  
 {instruction}

 Problem to analyze:  
 {current\_input}  
 """  
     	else:  
         	\# Subsequent agents get full context  
         	task\_description \= f"""  
 {instruction}

 Current Input:  
 {current\_input}

 Previous Context:  
 {accumulated\_context}

 Please build upon the previous work while applying your specialized expertise.  
 """  
     	  
     	return task\_description.strip()  
 	  
 	def \_display\_chain\_summary(self, chain\_results: Dict\[str, Any\]):  
     	"""Display a summary of the chain execution results"""  
     	  
     	print(f"\\n{'='\*60}")  
     	print("📊 AGENT CHAIN EXECUTION SUMMARY")  
     	print("="\*60)  
     	  
     	metadata \= chain\_results\["execution\_metadata"\]  
     	print(f"🎯 Original Problem: {chain\_results\['initial\_problem'\]\[:100\]}{'...' if len(chain\_results\['initial\_problem'\]) \> 100 else ''}")  
     	print(f"🔗 Chain Length: {metadata\['total\_steps'\]} agents")  
     	print(f"✅ Success: {metadata\['success'\]}")  
     	  
     	if not metadata\['success'\] and 'error' in metadata:  
         	print(f"❌ Error: {metadata\['error'\]}")  
     	  
     	print(f"\\n📈 Step-by-Step Results:")  
     	for step in chain\_results\["steps"\]:  
         	print(f"   Step {step\['step\_number'\]}: {step\['agent\_role'\].title()}")  
         	print(f"  	Quality Score: {step\['quality\_score'\]:.2f}")  
         	print(f"  	Reasoning Steps: {step\['reasoning\_steps'\]}")  
         	print(f"  	Output Length: {len(step\['result'\])} characters")  
     	  
     	if chain\_results\["final\_result"\]:  
         	print(f"\\n🎉 Final Result Summary:")  
         	print(f"   Length: {len(chain\_results\['final\_result'\])} characters")  
         	preview \= chain\_results\["final\_result"\]\[:200\] \+ "..." if len(chain\_results\["final\_result"\]) \> 200 else chain\_results\["final\_result"\]  
         	print(f"   Preview: {preview}")  
     	  
     	print(f"\\n💾 Chain execution completed and saved to history")






class FeedbackLoopManager:  
 	"""Manages feedback loops and iterative improvement in agent chains"""  
 	  
 	def \_\_init\_\_(self, chain\_coordinator: AgentChainCoordinator):  
     	self.coordinator \= chain\_coordinator  
     	self.feedback\_history \= \[\]  
     	print("🔄 Feedback Loop Manager initialized")  
 	  
 	def execute\_with\_validation\_loop(self, chain\_definition: List\[str\],  
                                    initial\_problem: str, max\_iterations: int \= 3\) \-\> Dict\[str, Any\]:  
     	"""Execute chain with validation feedback loop"""  
     	  
     	print(f"🔄 Starting Chain with Validation Loop (max {max\_iterations} iterations)")  
     	  
     	iteration\_results \= \[\]  
     	current\_problem \= initial\_problem  
     	  
     	for iteration in range(1, max\_iterations \+ 1):  
         	print(f"\\n{'='\*20} ITERATION {iteration}/{max\_iterations} {'='\*20}")  
         	  
         	\# Execute the main chain  
         	chain\_result \= self.coordinator.execute\_chain(chain\_definition, current\_problem)  
         	  
         	\# If chain failed, break  
         	if not chain\_result\["execution\_metadata"\]\["success"\]:  
             	break  
         	  
         	\# Run validation  
         	validation\_result \= self.\_validate\_chain\_result(chain\_result, initial\_problem)  
         	  
         	iteration\_data \= {  
             	"iteration": iteration,  
             	"chain\_result": chain\_result,  
             	"validation": validation\_result,  
             	"approved": validation\_result\["approved"\]  
         	}  
         	  
             iteration\_results.append(iteration\_data)  
         	  
         	if validation\_result\["approved"\]:  
             	print(f"✅ Solution approved in iteration {iteration}\!")  
             	break  
         	else:  
             	print(f"⚠️ Validation issues found, preparing iteration {iteration \+ 1}...")  
             	\# Prepare input for next iteration based on validation feedback  
             	current\_problem \= self.\_prepare\_refinement\_prompt(  
                 	initial\_problem,  
                     chain\_result\["final\_result"\],  
                     validation\_result\["issues"\]  
             	)  
     	  
     	\# Compile final results  
     	final\_results \= {  
         	"original\_problem": initial\_problem,  
         	"total\_iterations": len(iteration\_results),  
         	"final\_approved": iteration\_results\[-1\]\["approved"\] if iteration\_results else False,  
         	"iterations": iteration\_results,  
         	"best\_result": self.\_select\_best\_result(iteration\_results)  
     	}  
     	  
         self.\_display\_feedback\_loop\_summary(final\_results)  
     	  
     	return final\_results  
 	  
 	def \_validate\_chain\_result(self, chain\_result: Dict\[str, Any\], original\_problem: str) \-\> Dict\[str, Any\]:  
     	"""Validate the chain result and provide feedback"""  
     	  
     	print("🔍 Running validation on chain result...")  
     	  
     	\# Create validator agent if not exists  
     	validator \= self.coordinator.factory.get\_agent\_by\_role('validator')  
     	if not validator:  
         	validator \= self.coordinator.factory.create\_validator\_agent()  
     	  
     	validation\_prompt \= f"""  
     	Please validate this solution against the original problem:  
     	  
     	Original Problem:  
     	{original\_problem}  
     	  
     	Proposed Solution:  
     	{chain\_result\['final\_result'\]}  
     	  
     	Please evaluate:  
     	1\. Does the solution address the original problem completely?  
     	2\. Is the solution logical and well-reasoned?  
     	3\. Are there any gaps or missing elements?  
     	4\. Is the solution practical and implementable?  
     	5\. What specific improvements could be made?  
     	  
     	Provide your validation with clear reasoning, and conclude with either:  
     	\- APPROVED: The solution meets all requirements  
     	\- NEEDS\_IMPROVEMENT: Specific issues need to be addressed  
     	"""  
     	  
     	validation\_task \= Task(description=validation\_prompt, agent=validator)  
     	validation\_response \= validation\_task.execute()  
     	  
     	\# Parse validation result  
     	approved \= "APPROVED" in validation\_response.upper()  
     	issues \= self.\_extract\_validation\_issues(validation\_response)  
     	  
     	validation\_result \= {  
         	"approved": approved,  
             "validation\_response": validation\_response,  
         	"issues": issues,  
             "validator\_reasoning": self.coordinator.factory.extractor.get\_reasoning\_summary(validation\_response)  
     	}  
     	  
     	print(f"📋 Validation Result: {'✅ APPROVED' if approved else '⚠️ NEEDS IMPROVEMENT'}")  
     	if issues:  
         	print(f"🔍 Issues identified: {len(issues)}")  
     	  
     	return validation\_result  
 	  
 	def \_extract\_validation\_issues(self, validation\_response: str) \-\> List\[str\]:  
     	"""Extract specific issues from validation response"""  
     	issues \= \[\]  
     	  
     	\# Look for numbered issues or bullet points  
     	lines \= validation\_response.split('\\n')  
     	for line in lines:  
         	line \= line.strip()  
         	if any(indicator in line.lower() for indicator in \['issue', 'problem', 'gap', 'missing', 'improve'\]):  
             	issues.append(line)  
     	  
     	return issues  
 	  
 	def \_prepare\_refinement\_prompt(self, original\_problem: str,  
                                  current\_solution: str, issues: List\[str\]) \-\> str:  
     	"""Prepare input for the next iteration based on validation feedback"""  
     	  
     	refinement\_prompt \= f"""  
     	REFINEMENT REQUEST:  
     	  
     	Original Problem: {original\_problem}  
     	  
     	Previous Solution: {current\_solution}  
     	  
    	 Identified Issues to Address:  
     	{chr(10).join(f'- {issue}' for issue in issues)}  
     	  
     	Please improve the solution by specifically addressing these validation concerns while maintaining the strengths of the previous approach.  
     	"""  
     	  
     	return refinement\_prompt  
 	  
 	def \_select\_best\_result(self, iteration\_results: List\[Dict\[str, Any\]\]) \-\> Dict\[str, Any\]:  
     	"""Select the best result from all iterations"""  
     	  
     	if not iteration\_results:  
         	return {}  
     	  
     	\# Prefer approved results, then highest quality scores  
     	approved\_results \= \[r for r in iteration\_results if r\["approved"\]\]  
     	  
     	if approved\_results:  
         	\# Return the first approved result  
         	return approved\_results\[0\]\["chain\_result"\]  
     	else:  
         	\# Return the result with highest average quality score  
         	best\_result \= max(  
             	iteration\_results,  
             	key=lambda r: sum(step\["quality\_score"\] for step in r\["chain\_result"\]\["steps"\]) / len(r\["chain\_result"\]\["steps"\]) if r\["chain\_result"\]\["steps"\] else 0  
         	)  
         	return best\_result\["chain\_result"\]  
 	  
 	def \_display\_feedback\_loop\_summary(self, results: Dict\[str, Any\]):  
     	"""Display summary of feedback loop execution"""  
     	  
     	print(f"\\n{'='\*60}")  
     	print("🔄 FEEDBACK LOOP EXECUTION SUMMARY")  
     	print("="\*60)  
     	  
     	print(f"🎯 Original Problem: {results\['original\_problem'\]\[:100\]}{'...' if len(results\['original\_problem'\]) \> 100 else ''}")  
     	print(f"🔄 Total Iterations: {results\['total\_iterations'\]}")  
     	print(f"✅ Final Status: {'APPROVED' if results\['final\_approved'\] else 'NOT APPROVED'}")  
     	  
     	print(f"\\n📊 Iteration Breakdown:")  
     	for iteration\_data in results\["iterations"\]:  
         	iteration \= iteration\_data\["iteration"\]  
         	approved \= iteration\_data\["approved"\]  
         	avg\_quality \= sum(step\["quality\_score"\] for step in iteration\_data\["chain\_result"\]\["steps"\]) / len(iteration\_data\["chain\_result"\]\["steps"\]) if iteration\_data\["chain\_result"\]\["steps"\] else 0  
         	  
         	print(f"   Iteration {iteration}: {'✅ Approved' if approved else '⚠️ Needs Improvement'} (Avg Quality: {avg\_quality:.2f})")  
         	  
         	if not approved and iteration\_data\["validation"\]\["issues"\]:  
             	print(f"  	Issues: {len(iteration\_data\['validation'\]\['issues'\])}")






from specialized\_agents import SpecializedAgentFactory, AgentChainCoordinator, FeedbackLoopManager  
 from deepseek\_agent import deepseek\_config

 def test\_simple\_analysis\_chain():  
 	"""Test a simple problem analysis chain"""  
 	print("🧪 Testing Simple Analysis Chain")  
 	print("="\*50)  
 	  
 	\# Initialize components  
 	factory \= SpecializedAgentFactory(deepseek\_config)  
 	  
 	\# Create necessary agents  
 	factory.create\_analyzer\_agent()  
 	factory.create\_planner\_agent()  
 	factory.create\_validator\_agent()  
 	  
 	\# Create coordinator  
 	coordinator \= AgentChainCoordinator(factory)  
 	  
 	\# Define test problem  
 	test\_problem \= """  
 	Our software development team is struggling with code review efficiency.  
 	Reviews are taking too long, developers are frustrated with the process,  
 	and we're missing important bugs. How can we improve our code review process?  
 	"""  
 	  
 	\# Execute chain  
 	chain\_definition \= \["analyzer", "planner", "validator"\]  
 	result \= coordinator.execute\_chain(chain\_definition, test\_problem)  
 	  
 	print(f"\\n🎉 Simple chain test completed\!")  
 	print(f"Final result length: {len(result\['final\_result'\])} characters")  
 	  
 	return result

 def test\_complex\_implementation\_chain():  
 	"""Test a complex implementation chain with feedback loops"""  
 	print("\\n🧪 Testing Complex Implementation Chain with Feedback")  
 	print("="\*60)  
 	  
 	\# Initialize components  
 	factory \= SpecializedAgentFactory(deepseek\_config)  
 	  
 	\# Create all agent types  
 	factory.create\_analyzer\_agent()  
 	factory.create\_planner\_agent()  
 	factory.create\_executor\_agent()  
 	factory.create\_validator\_agent()  
 	factory.create\_synthesizer\_agent()  
 	  
 	\# Create coordinator and feedback manager  
 	coordinator \= AgentChainCoordinator(factory)  
 	feedback\_manager \= FeedbackLoopManager(coordinator)  
 	  
 	\# Define complex problem  
 	complex\_problem \= """  
 	Design a user authentication system for a web application that needs to:  
 	1\. Support email/password and social media login  
 	2\. Implement secure password policies  
 	3\. Provide password reset functionality  
 	4\. Include two-factor authentication  
 	5\. Be scalable and maintainable  
 	6\. Follow security best practices  
 	  
 	Provide both the architecture design and implementation guidelines.  
 	"""  
 	  
 	\# Execute with feedback loop  
 	chain\_definition \= \["analyzer", "planner", "executor", "synthesizer"\]  
 	result \= feedback\_manager.execute\_with\_validation\_loop(  
     	chain\_definition, complex\_problem, max\_iterations=2  
 	)  
 	  
 	print(f"\\n🎉 Complex chain with feedback test completed\!")  
 	print(f"Approved: {result\['final\_approved'\]}")  
 	print(f"Total iterations: {result\['total\_iterations'\]}")  
 	  
 	return result

 def test\_research\_synthesis\_chain():  
 	"""Test a research and synthesis focused chain"""  
 	print("\\n🧪 Testing Research Synthesis Chain")  
 	print("="\*50)  
 	  
 	\# Initialize components  
 	factory \= SpecializedAgentFactory(deepseek\_config)  
 	  
 	\# Create necessary agents  
 	factory.create\_analyzer\_agent()  
 	factory.create\_synthesizer\_agent()  
 	factory.create\_validator\_agent()  
 	  
 	coordinator \= AgentChainCoordinator(factory)  
 	  
 	\# Define research problem  
 	research\_problem \= """  
 	What are the key considerations and best practices for implementing  
 	artificial intelligence in healthcare systems? Consider technical,  
 	ethical, regulatory, and practical aspects.  
 	"""  
 	  
 	\# Execute research chain  
 	chain\_definition \= \["analyzer", "synthesizer", "validator"\]  
 	result \= coordinator.execute\_chain(chain\_definition, research\_problem)  
 	  
 	print(f"\\n🎉 Research synthesis test completed\!")  
 	  
 	return result

 def demonstrate\_chain\_performance():  
 	"""Demonstrate and compare different chain configurations"""  
 	print("\\n📊 Chain Performance Demonstration")  
 	print("="\*60)  
 	  
 	\# Test different chain configurations on the same problem  
 	test\_problem \= "How can we reduce customer churn in our SaaS product?"  
 	  
 	chains\_to\_test \= \[  
     	("Quick Analysis", \["analyzer", "planner"\]),  
     	("Standard Process", \["analyzer", "planner", "validator"\]),  
     	("Comprehensive", \["analyzer", "planner", "executor", "synthesizer", "validator"\])  
 	\]  
 	  
 	factory \= SpecializedAgentFactory(deepseek\_config)  
 	  
 	\# Create all agents  
 	factory.create\_analyzer\_agent()  
 	factory.create\_planner\_agent()  
 	factory.create\_executor\_agent()  
 	factory.create\_validator\_agent()  
 	factory.create\_synthesizer\_agent()  
 	  
 	coordinator \= AgentChainCoordinator(factory)  
 	  
 	results \= \[\]  
 	  
 	for chain\_name, chain\_def in chains\_to\_test:  
     	print(f"\\n{'='\*20} TESTING: {chain\_name} {'='\*20}")  
     	  
     	result \= coordinator.execute\_chain(chain\_def, test\_problem)  
     	  
     	\# Calculate performance metrics  
     	avg\_quality \= sum(step\["quality\_score"\] for step in result\["steps"\]) / len(result\["steps"\]) if result\["steps"\] else 0  
     	total\_reasoning\_steps \= sum(step\["reasoning\_steps"\] for step in result\["steps"\])  
     	  
     	performance \= {  
         	"name": chain\_name,  
         	"chain\_length": len(chain\_def),  
             "avg\_quality\_score": avg\_quality,  
             "total\_reasoning\_steps": total\_reasoning\_steps,  
             "final\_result\_length": len(result\["final\_result"\]),  
         	"success": result\["execution\_metadata"\]\["success"\]  
     	}  
     	  
     	results.append(performance)  
     	  
     	print(f"📊 Performance: Quality={avg\_quality:.2f}, Steps={total\_reasoning\_steps}, Length={len(result\['final\_result'\])}")  
 	  
 	\# Display comparison  
 	print(f"\\n📊 CHAIN PERFORMANCE COMPARISON:")  
 	print("-" \* 80\)  
 	print(f"{'Chain Name':\<20} {'Length':\<8} {'Quality':\<8} {'Steps':\<8} {'Output':\<10} {'Success':\<8}")  
 	print("-" \* 80\)  
 	  
 	for perf in results:  
         print(f"{perf\['name'\]:\<20} {perf\['chain\_length'\]:\<8} {perf\['avg\_quality\_score'\]:\<8.2f} {perf\['total\_reasoning\_steps'\]:\<8} {perf\['final\_result\_length'\]:\<10} {'✅' if perf\['success'\] else '❌':\<8}")  
 	  
 	print(f"\\n🎉 Performance demonstration completed\!")  
 	  
 	return results

 if \_\_name\_\_ \== "\_\_main\_\_":  
 	\# Run all tests  
 	print("🚀 Starting Comprehensive Agent Chain Testing")  
 	  
 	try:  
     	\# Test 1: Simple chain  
     	simple\_result \= test\_simple\_analysis\_chain()  
     	  
     	\# Test 2: Complex chain with feedback  
     	complex\_result \= test\_complex\_implementation\_chain()  
     	  
     	\# Test 3: Research synthesis  
     	research\_result \= test\_research\_synthesis\_chain()  
     	  
     	\# Test 4: Performance comparison  
     	performance\_results \= demonstrate\_chain\_performance()  
     	  
     	print(f"\\n{'='\*60}")  
     	print("🏆 ALL AGENT CHAIN TESTS COMPLETED SUCCESSFULLY\!")  
     	print("="\*60)  
     	print("✅ Simple Analysis Chain: Tested")  
     	print("✅ Complex Implementation with Feedback: Tested")  
     	print("✅ Research Synthesis Chain: Tested")  
     	print("✅ Performance Comparison: Completed")  
     	print(f"\\n🎉 Your agent chaining system is fully functional\!")  
     	  
 	except Exception as e:  
     	print(f"❌ Testing failed with error: {str(e)}")  
     	import traceback  
     	traceback.print\_exc()




